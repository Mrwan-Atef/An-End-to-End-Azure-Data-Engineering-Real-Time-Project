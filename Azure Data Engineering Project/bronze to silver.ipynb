{
 "cells": [
  {
   "cell_type": "code",
   "execution_count": null,
   "metadata": {},
   "outputs": [],
   "source": [
    "from pyspark.sql.functions import dbutils\n",
    "dbutils.fs.ls(\"/mnt/bronze/SalesLT/\")\n"
   ]
  },
  {
   "cell_type": "code",
   "execution_count": null,
   "metadata": {},
   "outputs": [],
   "source": [
    "table_name=[]\n",
    "\n",
    "for i in dbutils.fs.ls(\"/mnt/bronze/SalesLT/\"):\n",
    " table_name.append(i.name.split('/')[0])"
   ]
  },
  {
   "cell_type": "code",
   "execution_count": null,
   "metadata": {},
   "outputs": [],
   "source": [
    "from pyspark.sql.functions import from_utc_timestamp, date_format\n",
    "from pyspark.sql.types import TimestampType\n",
    "\n",
    "for i in table_name:\n",
    "    path = \"/mnt/bronze/SalesLT/\" + i + \"/\" + i + \".parquet/\"\n",
    "    df = spark.read.format(\"parquet\").load(path)\n",
    "    column = df.columns\n",
    "\n",
    "    for col in column:\n",
    "        if \"Date\" in col or \"date\" in col:\n",
    "            df = df.withColumn(col, date_format(from_utc_timestamp(df[col].cast(TimestampType()), \"UTC\"), \"yyyy-MM-dd\"))\n",
    "            \n",
    "    output_path = \"/mnt/silver/SalesLT/\" + i + \"/\"\n",
    "    df.write.format(\"delta\").mode(\"overwrite\").save(output_path)\n",
    "\n",
    "        "
   ]
  }
 ],
 "metadata": {
  "language_info": {
   "name": "python"
  }
 },
 "nbformat": 4,
 "nbformat_minor": 2
}
